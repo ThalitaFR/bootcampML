{
  "nbformat": 4,
  "nbformat_minor": 0,
  "metadata": {
    "colab": {
      "name": "DesafioModulo1.ipynb",
      "provenance": [],
      "private_outputs": true,
      "collapsed_sections": []
    },
    "kernelspec": {
      "name": "python3",
      "display_name": "Python 3"
    }
  },
  "cells": [
    {
      "cell_type": "code",
      "metadata": {
        "id": "jKAGjrCLRjKk",
        "colab_type": "code",
        "colab": {}
      },
      "source": [
        "import numpy as np  # biblioteca utilizada para tratar com número/vetores/matrizes\n",
        "import matplotlib.pyplot as plt  # utilizada para plotar gráficos ao \"estilo\" matlab\n",
        "import pandas as pd #biblioteca utilizada para realizar operações sobre dataframes\n"
      ],
      "execution_count": null,
      "outputs": []
    },
    {
      "cell_type": "code",
      "metadata": {
        "id": "xY4XCHTWU0nJ",
        "colab_type": "code",
        "colab": {}
      },
      "source": [
        "from google.colab import files  #biblioteca do google colab utilizada para importar arquivos \n",
        "uploaded=files.upload() #importa os arquivos"
      ],
      "execution_count": null,
      "outputs": []
    },
    {
      "cell_type": "code",
      "metadata": {
        "id": "lRFBZLWMVJK_",
        "colab_type": "code",
        "colab": {}
      },
      "source": [
        "dataset = pd.read_csv(\"/content/comp_bikes_mod.csv\")"
      ],
      "execution_count": null,
      "outputs": []
    },
    {
      "cell_type": "code",
      "metadata": {
        "id": "H_NEbDZzVfhC",
        "colab_type": "code",
        "colab": {}
      },
      "source": [
        "dataset.info"
      ],
      "execution_count": null,
      "outputs": []
    },
    {
      "cell_type": "code",
      "metadata": {
        "id": "77noKn-TV6dd",
        "colab_type": "code",
        "colab": {}
      },
      "source": [
        "dataset.info()"
      ],
      "execution_count": null,
      "outputs": []
    },
    {
      "cell_type": "code",
      "metadata": {
        "id": "nLYCryfjaiJh",
        "colab_type": "code",
        "colab": {}
      },
      "source": [
        "nans = dataset['temp'].isna().sum() #contando a quantidade de valores nulos\n",
        "nans[nans > 0]"
      ],
      "execution_count": null,
      "outputs": []
    },
    {
      "cell_type": "code",
      "metadata": {
        "id": "oEV5CehXfTHL",
        "colab_type": "code",
        "colab": {}
      },
      "source": [
        "dataset.dropna(subset=['dteday'], inplace = True)"
      ],
      "execution_count": null,
      "outputs": []
    },
    {
      "cell_type": "code",
      "metadata": {
        "id": "X9w7EAL-f3t2",
        "colab_type": "code",
        "colab": {}
      },
      "source": [
        "dataset.info()"
      ],
      "execution_count": null,
      "outputs": []
    },
    {
      "cell_type": "code",
      "metadata": {
        "id": "Ao3tIkech1NZ",
        "colab_type": "code",
        "colab": {}
      },
      "source": [
        "dataset.describe()\n"
      ],
      "execution_count": null,
      "outputs": []
    },
    {
      "cell_type": "code",
      "metadata": {
        "id": "e6-9lkdNkGko",
        "colab_type": "code",
        "colab": {}
      },
      "source": [
        "dataset['season'].astype('category')"
      ],
      "execution_count": null,
      "outputs": []
    },
    {
      "cell_type": "code",
      "metadata": {
        "id": "Y5oVYyXWkg-N",
        "colab_type": "code",
        "colab": {}
      },
      "source": [
        "dataset['dteday'] = dataset['dteday'].apply(lambda x: pd.to_datetime(x))"
      ],
      "execution_count": null,
      "outputs": []
    },
    {
      "cell_type": "code",
      "metadata": {
        "id": "KNddnCa0lKj9",
        "colab_type": "code",
        "colab": {}
      },
      "source": [
        "dataset['dteday'].last"
      ],
      "execution_count": null,
      "outputs": []
    },
    {
      "cell_type": "code",
      "metadata": {
        "id": "ireSkklxl5Vk",
        "colab_type": "code",
        "colab": {}
      },
      "source": [
        "dataset.boxplot(column=\"windspeed\")"
      ],
      "execution_count": null,
      "outputs": []
    },
    {
      "cell_type": "code",
      "metadata": {
        "id": "_6Oh6vtwmBL9",
        "colab_type": "code",
        "colab": {}
      },
      "source": [
        "correlacao = dataset[['season','temp','atemp','hum', 'cnt']]\n"
      ],
      "execution_count": null,
      "outputs": []
    },
    {
      "cell_type": "code",
      "metadata": {
        "id": "LZw7Klqzm9ZA",
        "colab_type": "code",
        "colab": {}
      },
      "source": [
        "correlacao.corr()"
      ],
      "execution_count": null,
      "outputs": []
    },
    {
      "cell_type": "code",
      "metadata": {
        "id": "2nmFAthbnhSH",
        "colab_type": "code",
        "colab": {}
      },
      "source": [
        "plt.matshow(correlacao[['hum', 'cnt']].corr())\n"
      ],
      "execution_count": null,
      "outputs": []
    },
    {
      "cell_type": "code",
      "metadata": {
        "id": "FpPRpINcxIfj",
        "colab_type": "code",
        "colab": {}
      },
      "source": [
        "import seaborn as sns\n",
        "\n",
        "corr = dataset.corr().loc[[\"season\", \"temp\", \"atemp\", \"hum\", \"windspeed\", \"cnt\"], [\"season\", \"temp\", \"atemp\", \"hum\", \"windspeed\", \"cnt\"]]\n",
        "\n",
        "plt.figure(figsize=(12,10))\n",
        "sns.heatmap(corr, annot=True, cmap=plt.cm.Reds)\n",
        "plt.show()"
      ],
      "execution_count": null,
      "outputs": []
    },
    {
      "cell_type": "code",
      "metadata": {
        "id": "WB2wX8gjn08U",
        "colab_type": "code",
        "colab": {}
      },
      "source": [
        "dataset['hum'].fillna((dataset['hum'].mean()), inplace = True)\n",
        "dataset['cnt'].fillna((dataset['cnt'].mean()), inplace = True)\n",
        "dataset['casual'].fillna((dataset['casual'].mean()), inplace = True)"
      ],
      "execution_count": null,
      "outputs": []
    },
    {
      "cell_type": "code",
      "metadata": {
        "id": "hkUFoThyogHu",
        "colab_type": "code",
        "colab": {}
      },
      "source": [
        "x = dataset['hum'].values  #variável independente \n",
        "x = dataset['casual'].values\n",
        "y = dataset['cnt'].values #variável dependente"
      ],
      "execution_count": null,
      "outputs": []
    },
    {
      "cell_type": "code",
      "metadata": {
        "id": "-s1GZM4vvI93",
        "colab_type": "code",
        "colab": {}
      },
      "source": [
        "xData = np.array(dataset[['hum', 'casual']]) # transformando a lista em array , variavel independente\n",
        "yData = np.array(dataset['cnt']) #transformando a lista em array, variavel dependente"
      ],
      "execution_count": null,
      "outputs": []
    },
    {
      "cell_type": "code",
      "metadata": {
        "id": "36AndVJ0vS-p",
        "colab_type": "code",
        "colab": {}
      },
      "source": [
        "from sklearn.linear_model import LinearRegression\n",
        "from sklearn.metrics import mean_squared_error"
      ],
      "execution_count": null,
      "outputs": []
    },
    {
      "cell_type": "code",
      "metadata": {
        "id": "-4ULUv5OvNcQ",
        "colab_type": "code",
        "colab": {}
      },
      "source": [
        "reg = LinearRegression() # objeto para a regressão linear\n",
        "x_ModeloSklearn = xData # na regressão linear é necessário que o x seja 2D\n",
        "regressao = reg.fit (x_ModeloSklearn, yData) # realiza a regressão"
      ],
      "execution_count": null,
      "outputs": []
    },
    {
      "cell_type": "code",
      "metadata": {
        "id": "tIQIfAcyyfyM",
        "colab_type": "code",
        "colab": {}
      },
      "source": [
        "previsao = reg.predict(x_ModeloSklearn)"
      ],
      "execution_count": null,
      "outputs": []
    },
    {
      "cell_type": "code",
      "metadata": {
        "id": "sgBgrtCgroW7",
        "colab_type": "code",
        "colab": {}
      },
      "source": [
        "from sklearn.metrics import r2_score #método para o cálculo do R2 (coeficiente de determinação)"
      ],
      "execution_count": null,
      "outputs": []
    },
    {
      "cell_type": "code",
      "metadata": {
        "id": "0VHUPythruCv",
        "colab_type": "code",
        "colab": {}
      },
      "source": [
        "print('Y = {} X {}'.format(reg.coef_, reg.intercept_))\n",
        "\n",
        "R_2 = r2_score(yData, previsao) # realiza calculo do R2\n",
        "print(\"coeficiente de determinação:\", R_2)"
      ],
      "execution_count": null,
      "outputs": []
    },
    {
      "cell_type": "code",
      "metadata": {
        "id": "85FVr_et4gDM",
        "colab_type": "code",
        "colab": {}
      },
      "source": [
        "from sklearn.tree import DecisionTreeClassifier\n"
      ],
      "execution_count": null,
      "outputs": []
    },
    {
      "cell_type": "code",
      "metadata": {
        "id": "2T6lE55i5bPd",
        "colab_type": "code",
        "colab": {}
      },
      "source": [
        "dataset.info()"
      ],
      "execution_count": null,
      "outputs": []
    },
    {
      "cell_type": "code",
      "metadata": {
        "id": "BxBLZTwb4bPv",
        "colab_type": "code",
        "colab": {}
      },
      "source": [
        "dt_clf =  DecisionTreeRegressor()\n",
        "fitDt_clf = dt_clf.fit(xData, yData)"
      ],
      "execution_count": null,
      "outputs": []
    },
    {
      "cell_type": "code",
      "metadata": {
        "id": "QOfQwY2t9HGn",
        "colab_type": "code",
        "colab": {}
      },
      "source": [
        "previsao = dt_clf.predict(xData)\n",
        "# dtr.score(x, y)\n",
        "R_2 = r2_score(yData, previsao)\n",
        "R_2"
      ],
      "execution_count": null,
      "outputs": []
    }
  ]
}
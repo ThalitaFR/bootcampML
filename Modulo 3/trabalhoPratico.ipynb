{
  "nbformat": 4,
  "nbformat_minor": 0,
  "metadata": {
    "colab": {
      "name": "trabalhoPratico.ipynb",
      "provenance": [],
      "private_outputs": true
    },
    "kernelspec": {
      "name": "python3",
      "display_name": "Python 3"
    }
  },
  "cells": [
    {
      "cell_type": "code",
      "metadata": {
        "id": "G7yEGWjEDM-j",
        "colab_type": "code",
        "colab": {}
      },
      "source": [
        "# importando as bibliotecas\n",
        "\n",
        "import warnings\n",
        "warnings.filterwarnings(\"ignore\")\n",
        "\n",
        "import pandas as pd \n",
        "import numpy as np \n",
        "import seaborn as sns\n",
        "import matplotlib.pyplot as plt \n",
        "\n",
        "from sklearn import datasets\n",
        "from sklearn.decomposition import PCA"
      ],
      "execution_count": null,
      "outputs": []
    },
    {
      "cell_type": "code",
      "metadata": {
        "id": "cnPAWWdPDTRh",
        "colab_type": "code",
        "colab": {}
      },
      "source": [
        "iris = datasets.load_iris()\n",
        "X = iris.data[:, :2] # pegamos as duas primeiras features aqui. Pegue as outras se quiser\n",
        "y = iris.target\n",
        "\n",
        "y[0] # classe do primeiro elemento\n",
        "X[:1, :] # primeiro elemento a classificar"
      ],
      "execution_count": null,
      "outputs": []
    },
    {
      "cell_type": "code",
      "metadata": {
        "id": "nhXfPC9VDVQU",
        "colab_type": "code",
        "colab": {}
      },
      "source": [
        "list(iris.target_names)"
      ],
      "execution_count": null,
      "outputs": []
    },
    {
      "cell_type": "code",
      "metadata": {
        "id": "Xfw56gPmDWy7",
        "colab_type": "code",
        "colab": {}
      },
      "source": [
        "iris.target[[10, 25, 50]]\n",
        "# Single Label"
      ],
      "execution_count": null,
      "outputs": []
    },
    {
      "cell_type": "code",
      "metadata": {
        "id": "gRPujTV5DYeE",
        "colab_type": "code",
        "colab": {}
      },
      "source": [
        "list(iris.target_names)\n",
        "# sklearn.linear_model.LinearRegression não seria adequeado\n",
        "# Temos até três valores para a otimização explorar.\n",
        "# o dataset tem 3 classes"
      ],
      "execution_count": null,
      "outputs": []
    },
    {
      "cell_type": "code",
      "metadata": {
        "id": "Z6r00kiXDvba",
        "colab_type": "code",
        "colab": {}
      },
      "source": [
        "iris.data.shape\n",
        "# o dataset tem 150 amostras"
      ],
      "execution_count": null,
      "outputs": []
    },
    {
      "cell_type": "markdown",
      "metadata": {
        "id": "9cwU_l-nD_WU",
        "colab_type": "text"
      },
      "source": [
        "# Perguntas Teóricas:\n",
        "\n",
        "##Pergunta 6\n",
        "Para o algoritmo sklearn.ensemble.RandomForestClassifier, a sintaxe para chamar o algoritmo GridSearchCV sobre o intervalo de “5 a 300” do parâmetro “n_estimators”, para otimização, seria:\n",
        "\n",
        "params = {'n_estimators': {5, 300}}\n",
        "\n",
        "**params = {'n_estimators': [5, 300]}**\n",
        "\n",
        "params = [5, 300]\n",
        "\n",
        "params: { ’n_estimators’: [5, 300] }\n",
        "\n",
        "\n",
        "## Pergunta 7\n",
        "Qual é a métrica de qualidade mais adequada para a resolução desse problema?\n",
        "\n",
        "F-Score.\n",
        "\n",
        "Recall.\n",
        "\n",
        "Precisão.\n",
        "\n",
        "**Acurácia.**\n",
        "\n",
        "\n",
        "## Pergunta 8\n",
        "Qual técnica de validação cruzada seria mais computacionalmente eficiente para resolver esse problema?\n",
        "\n",
        "K-Fold Cross Validation.\n",
        "\n",
        "Nenhuma das alternativas.\n",
        "\n",
        "**Divisão treino-teste.**\n",
        "\n",
        "Leave P Out.\n",
        "\n",
        "## Pergunta 9\n",
        "Com quantos parâmetros o algoritmo de busca exaustiva em grid, GridSearchCV, pode funcionar?\n",
        "\n",
        "Dois.\n",
        "\n",
        "Três.\n",
        "\n",
        "Não mais que metade dos parâmetros de um algoritmo.\n",
        "\n",
        "**Quantos forem necessários.**\n",
        "\n",
        "\n",
        "## Pergunta 10\n",
        "Sobre o meu algoritmo, para rodar a otimização de hiperparâmetros e a validação cruzada, é necessário que eu:\n",
        "\n",
        "Rode primeiro o GridSearchCV depois o cross_val_score.\n",
        "\n",
        "Rode o GridSearchCV e o cross_val_score em qualquer ordem.\n",
        "\n",
        "**Rode o GridSearchCV.**\n",
        "\n",
        "Rode primeiro o cross_val_score e depois o GridSearchCV.\n",
        "\n",
        "## Pergunta 11\n",
        "A validação cruzada…\n",
        "\n",
        "É uma técnica melhor que a otimização de hiperparâmetros para otimizar os modelos buscados.\n",
        "\n",
        "Cruza dados de modelos diferentes.\n",
        "\n",
        "Encontra o melhor modelo para um determinado conjunto de dados.\n",
        "\n",
        "**Simula uma situação em que meu modelo está diante de dados desconhecidos para auferir seu provável desempenho quando diante do mundo real.**\n",
        "\n",
        "\n",
        "## Pergunta 12\n",
        "A otimização de hiperparâmetros:\n",
        "\n",
        "**Encontra a melhor (ou uma das melhores) configuração para rodar determinado algoritmo que gerará um modelo.**\n",
        "\n",
        "Busca, diretamente, pelos melhores parâmetros de um modelo.\n",
        "\n",
        "Retorna, em todas as suas versões, o melhor conjunto de hiperparametros possível para determinado algoritmo.\n",
        "\n",
        "É mais importante que a validação cruzada na busca de um bom modelo.\n",
        "\n",
        "## Pergunta 13\n",
        "A validação cruzada:\n",
        "\n",
        "**Funciona para quaisquer tipos de modelos.**\n",
        "\n",
        "Só funciona para conjuntos de dados de até mil elementos.\n",
        "\n",
        "Só funciona para comparar, no máximo, três modelos diferentes.\n",
        "\n",
        "Só funciona para problemas classificação.\n",
        "\n",
        "## Pergunta 14\n",
        "A otimização de hiperparâmetros...\n",
        "\n",
        "Só funciona para conjuntos de dados de até mil elementos.\n",
        "\n",
        "Só funciona para comparar, no máximo, três modelos diferentes.\n",
        "\n",
        "**Funciona para quaisquer tipos de modelos.**\n",
        "\n",
        "Só funciona para problemas classificação.\n",
        "\n",
        "## Pergunta 15\n",
        "Uma vez gerado e colocado em produção, o seu modelo…\n",
        "\n",
        "Não deve ser retrabalhado com mais dados.\n",
        "\n",
        "**Pode ser reavaliado no futuro, quando diante de novos dados ou situações problema.**\n",
        "\n",
        "Está em sua versão final e só faz sentido ser substituído por um modelo de um outro algoritmo.\n",
        "\n",
        "Não pode mais ser otimizado via hiperparâmetros, nem quando diante de mais dados."
      ]
    }
  ]
}
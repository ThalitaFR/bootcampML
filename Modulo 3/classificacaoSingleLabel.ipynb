{
  "nbformat": 4,
  "nbformat_minor": 0,
  "metadata": {
    "colab": {
      "name": "classificacaoSingleLabel.ipynb",
      "provenance": [],
      "private_outputs": true
    },
    "kernelspec": {
      "name": "python3",
      "display_name": "Python 3"
    }
  },
  "cells": [
    {
      "cell_type": "code",
      "metadata": {
        "id": "PF1IXciKBBoE",
        "colab_type": "code",
        "colab": {}
      },
      "source": [
        "# Importando as bibliotecas\n",
        "\n",
        "import warnings\n",
        "warnings.filterwarnings(\"ignore\")\n",
        "\n",
        "# Carregando o dataset\n",
        "from sklearn.datasets import load_wine\n",
        "wine = load_wine()"
      ],
      "execution_count": null,
      "outputs": []
    },
    {
      "cell_type": "code",
      "metadata": {
        "id": "OIpbJ6wBBLNj",
        "colab_type": "code",
        "colab": {}
      },
      "source": [
        "# Exemplo de acesso aos dados\n",
        "X = wine.data[:, :] # Features de cada elemento\n",
        "y = wine.target # Classes de cada elemento"
      ],
      "execution_count": null,
      "outputs": []
    },
    {
      "cell_type": "code",
      "metadata": {
        "id": "si1rw05lBNZ9",
        "colab_type": "code",
        "colab": {}
      },
      "source": [
        "# Separa dados para treinar\n",
        "from sklearn.model_selection import train_test_split\n",
        "\n",
        "X_train, X_test, y_train, y_test = train_test_split(X, y, test_size=0.33, random_state=42)\n",
        "# O uso desssa função facilita, mas não é obrigatório. Você pode dividir os seu dados manualmente."
      ],
      "execution_count": null,
      "outputs": []
    },
    {
      "cell_type": "code",
      "metadata": {
        "id": "CliIcOwdBP48",
        "colab_type": "code",
        "colab": {}
      },
      "source": [
        "# Carregando e treinando os classificadores\n",
        "# Random Forest\n",
        "\n",
        "from sklearn.ensemble import RandomForestClassifier\n",
        "rfc = RandomForestClassifier()\n",
        "rfc.fit(X_train, y_train)\n",
        "y_pred = rfc.predict(X_test)"
      ],
      "execution_count": null,
      "outputs": []
    },
    {
      "cell_type": "code",
      "metadata": {
        "id": "ouqZtrPAB06e",
        "colab_type": "code",
        "colab": {}
      },
      "source": [
        "# Métricas do Random Forest\n",
        "\n",
        "from sklearn.metrics import  accuracy_score, recall_score, precision_score\n",
        "\n",
        "rfc_acc = round(accuracy_score(y_test, y_pred), 6) # round é para arredondar\n",
        "rfc_recall = round(recall_score(y_test, y_pred, average='weighted'), 6)\n",
        "rfc_precision = round(precision_score(y_test, y_pred, average='weighted'), 6)"
      ],
      "execution_count": null,
      "outputs": []
    },
    {
      "cell_type": "code",
      "metadata": {
        "id": "Te7_2DxBB3Ah",
        "colab_type": "code",
        "colab": {}
      },
      "source": [
        "from sklearn.neighbors import KNeighborsClassifier\n",
        "\n",
        "knn = KNeighborsClassifier(n_neighbors=3)\n",
        "knn.fit(X_train, y_train)\n",
        "y_pred = knn.predict(X_test)"
      ],
      "execution_count": null,
      "outputs": []
    },
    {
      "cell_type": "code",
      "metadata": {
        "id": "uvEuLCLCB5E9",
        "colab_type": "code",
        "colab": {}
      },
      "source": [
        "# Métricas do KNN\n",
        "\n",
        "knn_acc = round(accuracy_score(y_test, y_pred), 6)\n",
        "knn_recall = round(recall_score(y_test, y_pred, average='weighted'), 6)\n",
        "knn_precision = round(precision_score(y_test, y_pred, average='weighted'), 6)"
      ],
      "execution_count": null,
      "outputs": []
    },
    {
      "cell_type": "code",
      "metadata": {
        "id": "W48lMicRB7lp",
        "colab_type": "code",
        "colab": {}
      },
      "source": [
        "# Comparação\n",
        "print('KNN vs Random Forest\\n')\n",
        "print('Classes: {0}\\n'.format(wine.target_names))\n",
        "print('Acurácia: {0} vs {1}'.format(knn_acc, rfc_acc))\n",
        "print('Recall: {0} vs {1}'.format(knn_recall, rfc_recall))\n",
        "print('Precisão: {0} vs {1}'.format(knn_precision, rfc_precision))"
      ],
      "execution_count": null,
      "outputs": []
    }
  ]
}
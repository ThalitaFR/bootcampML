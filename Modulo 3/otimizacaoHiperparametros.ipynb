{
  "nbformat": 4,
  "nbformat_minor": 0,
  "metadata": {
    "colab": {
      "name": "otimizacaoHiperparametros.ipynb",
      "provenance": [],
      "private_outputs": true
    },
    "kernelspec": {
      "name": "python3",
      "display_name": "Python 3"
    }
  },
  "cells": [
    {
      "cell_type": "code",
      "metadata": {
        "id": "Yrwc_fjx-y8U",
        "colab_type": "code",
        "colab": {}
      },
      "source": [
        "# Importando as bibliotecas\n",
        "import warnings\n",
        "warnings.filterwarnings(\"ignore\")\n",
        "\n",
        "# Carregando o dataset\n",
        "from sklearn.datasets import load_wine\n",
        "wine = load_wine()"
      ],
      "execution_count": null,
      "outputs": []
    },
    {
      "cell_type": "code",
      "metadata": {
        "id": "pKwWR1Te_AOo",
        "colab_type": "code",
        "colab": {}
      },
      "source": [
        "# Exemplo de acesso aos dados\n",
        "X = wine.data[:, :] # Features de cada elemento\n",
        "y = wine.target # Classes de cada elemento"
      ],
      "execution_count": null,
      "outputs": []
    },
    {
      "cell_type": "code",
      "metadata": {
        "id": "09GgJjgY_FSU",
        "colab_type": "code",
        "colab": {}
      },
      "source": [
        "# Separa dados para treinar\n",
        "from sklearn.model_selection import train_test_split\n",
        "\n",
        "X_train, X_test, y_train, y_test = train_test_split(X, y, test_size=0.33, random_state=42)\n",
        "# O uso desssa função facilita, mas não é obrigatório. Você pode dividir os seus dados manualmente."
      ],
      "execution_count": null,
      "outputs": []
    },
    {
      "cell_type": "code",
      "metadata": {
        "id": "kcGrOe1Q_HVJ",
        "colab_type": "code",
        "colab": {}
      },
      "source": [
        "# Carregando e treinando os classificadores\n",
        "# Random Forests\n",
        "\n",
        "from sklearn.ensemble import RandomForestClassifier\n",
        "rfc = RandomForestClassifier()\n",
        "rfc.fit(X_train, y_train)\n",
        "y_pred = rfc.predict(X_test)"
      ],
      "execution_count": null,
      "outputs": []
    },
    {
      "cell_type": "code",
      "metadata": {
        "id": "7BExNydj_JV_",
        "colab_type": "code",
        "colab": {}
      },
      "source": [
        "# Métricas do Random Forests\n",
        "from sklearn.metrics import  accuracy_score, recall_score, precision_score\n",
        "\n",
        "rfc_acc = round(accuracy_score(y_test, y_pred), 6) # round é para arredondar\n",
        "rfc_recall = round(recall_score(y_test, y_pred, average='weighted'), 6)\n",
        "rfc_precision = round(precision_score(y_test, y_pred, average='weighted'), 6)"
      ],
      "execution_count": null,
      "outputs": []
    },
    {
      "cell_type": "code",
      "metadata": {
        "id": "1T_B6wHX_LTV",
        "colab_type": "code",
        "colab": {}
      },
      "source": [
        "from sklearn.neighbors import KNeighborsClassifier\n",
        "\n",
        "knn = KNeighborsClassifier(n_neighbors=3)\n",
        "knn.fit(X_train, y_train)\n",
        "y_pred = knn.predict(X_test)"
      ],
      "execution_count": null,
      "outputs": []
    },
    {
      "cell_type": "code",
      "metadata": {
        "id": "wEYIK8NE_Qfy",
        "colab_type": "code",
        "colab": {}
      },
      "source": [
        "# Métricas do KNN\n",
        "\n",
        "knn_acc = round(accuracy_score(y_test, y_pred), 6)\n",
        "knn_recall = round(recall_score(y_test, y_pred, average='weighted'), 6)\n",
        "knn_precision = round(precision_score(y_test, y_pred, average='weighted'), 6)"
      ],
      "execution_count": null,
      "outputs": []
    },
    {
      "cell_type": "code",
      "metadata": {
        "id": "bPJ5X6mq_TFI",
        "colab_type": "code",
        "colab": {}
      },
      "source": [
        "# Comparação\n",
        "print('KNN vs Random Forest\\n')\n",
        "print('Classes: {0}\\n'.format(wine.target_names))\n",
        "print('Acurácia: {0} vs {1}'.format(knn_acc, rfc_acc))\n",
        "print('Recall: {0} vs {1}'.format(knn_recall, rfc_recall))\n",
        "print('Precisão: {0} vs {1}'.format(knn_precision, rfc_precision))"
      ],
      "execution_count": null,
      "outputs": []
    },
    {
      "cell_type": "code",
      "metadata": {
        "id": "vSzmo1JJ_XcC",
        "colab_type": "code",
        "colab": {}
      },
      "source": [
        "# Validação cruzada\n",
        "from sklearn.model_selection import cross_val_score\n",
        "cv_rfc = cross_val_score(rfc, X, y)\n",
        "cv_knn = cross_val_score(knn, X, y)\n",
        "print('\\nValidação Cruzada: {0} vs {1}'.format(cv_knn, cv_rfc))"
      ],
      "execution_count": null,
      "outputs": []
    },
    {
      "cell_type": "code",
      "metadata": {
        "id": "dqfxqAUt_b24",
        "colab_type": "code",
        "colab": {}
      },
      "source": [
        "sum_cv_rfc = 0\n",
        "for cv_score in cv_rfc:\n",
        "  sum_cv_rfc += cv_score\n",
        "print('\\nResultado Random Forest: {0}'.format(sum_cv_rfc/5))"
      ],
      "execution_count": null,
      "outputs": []
    },
    {
      "cell_type": "code",
      "metadata": {
        "id": "fZkX8ZLF_fhy",
        "colab_type": "code",
        "colab": {}
      },
      "source": [
        "sum_cv_knn = 0\n",
        "for cv_score in cv_knn:\n",
        "  sum_cv_knn += cv_score\n",
        "print('\\nResultado KNN: {0}'.format(sum_cv_knn/5))"
      ],
      "execution_count": null,
      "outputs": []
    },
    {
      "cell_type": "code",
      "metadata": {
        "id": "ijgeq-do_lN9",
        "colab_type": "code",
        "colab": {}
      },
      "source": [
        "# Otimização de Hiperparâmetros\n",
        "from sklearn.model_selection import GridSearchCV\n",
        "\n",
        "# RFC\n",
        "parameters = {'min_samples_split': (2, 6)}\n",
        "rfc_hps = GridSearchCV(rfc, parameters)\n",
        "rfc_hps.fit(X, y)\n",
        "print('Melhor valor para min_samples_split: {0}'.format(rfc_hps.best_params_['min_samples_split']))\n",
        "\n",
        "# KNN\n",
        "parameters = {'n_neighbors': (1, 20)}\n",
        "knn_hps = GridSearchCV(knn, parameters)\n",
        "knn_hps.fit(X, y)\n",
        "print('Melhor valor para n_neighbors: {0}'.format(knn_hps.best_params_['n_neighbors']))"
      ],
      "execution_count": null,
      "outputs": []
    }
  ]
}
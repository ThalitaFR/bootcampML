{
  "nbformat": 4,
  "nbformat_minor": 0,
  "metadata": {
    "colab": {
      "name": "validacaoCruzada.ipynb",
      "provenance": [],
      "private_outputs": true
    },
    "kernelspec": {
      "name": "python3",
      "display_name": "Python 3"
    }
  },
  "cells": [
    {
      "cell_type": "code",
      "metadata": {
        "id": "fDvL_kIW8shp",
        "colab_type": "code",
        "colab": {}
      },
      "source": [
        "# Importando as bibliotecas\n",
        "\n",
        "import warnings\n",
        "warnings.filterwarnings(\"ignore\")\n",
        "\n",
        "# Carregando o dataset\n",
        "from sklearn.datasets import load_wine\n",
        "wine = load_wine()"
      ],
      "execution_count": null,
      "outputs": []
    },
    {
      "cell_type": "code",
      "metadata": {
        "id": "Ce3KmRbf8zL9",
        "colab_type": "code",
        "colab": {}
      },
      "source": [
        "# Exemplo de acesso aos dados\n",
        "X = wine.data[:, :] # Features de cada elemento\n",
        "y = wine.target # Classes de cada elemento"
      ],
      "execution_count": null,
      "outputs": []
    },
    {
      "cell_type": "code",
      "metadata": {
        "id": "4rGp2sMB88D1",
        "colab_type": "code",
        "colab": {}
      },
      "source": [
        "# Separa dados para treinar\n",
        "from sklearn.model_selection import train_test_split\n",
        "\n",
        "X_train, X_test, y_train, y_test = train_test_split(X, y, test_size=0.33, random_state=42)\n",
        "# O uso desssa função facilita, mas não é obrigatório. Você pode dividir os seu dados manualmente"
      ],
      "execution_count": null,
      "outputs": []
    },
    {
      "cell_type": "code",
      "metadata": {
        "id": "0mzDtcoZ8-yC",
        "colab_type": "code",
        "colab": {}
      },
      "source": [
        "# Carregando e treinando os classificadores\n",
        "# Random Forest\n",
        "\n",
        "from sklearn.ensemble import RandomForestClassifier\n",
        "rfc = RandomForestClassifier()\n",
        "rfc.fit(X_train, y_train)\n",
        "y_pred = rfc.predict(X_test)"
      ],
      "execution_count": null,
      "outputs": []
    },
    {
      "cell_type": "code",
      "metadata": {
        "id": "HelqBB_y9JjR",
        "colab_type": "code",
        "colab": {}
      },
      "source": [
        "# Métricas do Random Forest\n",
        "\n",
        "from sklearn.metrics import  accuracy_score, recall_score, precision_score\n",
        "\n",
        "rfc_acc = round(accuracy_score(y_test, y_pred), 6) # round é para arredondar\n",
        "rfc_recall = round(recall_score(y_test, y_pred, average='weighted'), 6)\n",
        "rfc_precision = round(precision_score(y_test, y_pred, average='weighted'), 6)"
      ],
      "execution_count": null,
      "outputs": []
    },
    {
      "cell_type": "code",
      "metadata": {
        "id": "hM3ZbXcc9L8k",
        "colab_type": "code",
        "colab": {}
      },
      "source": [
        "#KNN\n",
        "from sklearn.neighbors import KNeighborsClassifier\n",
        "\n",
        "knn = KNeighborsClassifier(n_neighbors=3)\n",
        "knn.fit(X_train, y_train)\n",
        "y_pred = knn.predict(X_test)"
      ],
      "execution_count": null,
      "outputs": []
    },
    {
      "cell_type": "code",
      "metadata": {
        "id": "JKw0308G9OjG",
        "colab_type": "code",
        "colab": {}
      },
      "source": [
        "# Métricas do KNN\n",
        "\n",
        "knn_acc = round(accuracy_score(y_test, y_pred), 6)\n",
        "knn_recall = round(recall_score(y_test, y_pred, average='weighted'), 6)\n",
        "knn_precision = round(precision_score(y_test, y_pred, average='weighted'), 6)"
      ],
      "execution_count": null,
      "outputs": []
    },
    {
      "cell_type": "code",
      "metadata": {
        "id": "vRjhrukB9TR6",
        "colab_type": "code",
        "colab": {}
      },
      "source": [
        "# Comparação\n",
        "print('KNN vs Random Forest\\n')\n",
        "print('Classes: {0}\\n'.format(wine.target_names))\n",
        "print('Acurácia: {0} vs {1}'.format(knn_acc, rfc_acc))\n",
        "print('Recall: {0} vs {1}'.format(knn_recall, rfc_recall))\n",
        "print('Precisão: {0} vs {1}'.format(knn_precision, rfc_precision))"
      ],
      "execution_count": null,
      "outputs": []
    },
    {
      "cell_type": "code",
      "metadata": {
        "id": "l5qt-Jcv9XYw",
        "colab_type": "code",
        "colab": {}
      },
      "source": [
        "# Na validação cruzada\n",
        "from sklearn.model_selection import cross_val_score\n",
        "cv_rfc = cross_val_score(rfc, X, y)\n",
        "cv_knn = cross_val_score(knn, X, y)\n",
        "print('\\nValidação Cruzada: {0} vs {1}'.format(cv_knn, cv_rfc))"
      ],
      "execution_count": null,
      "outputs": []
    },
    {
      "cell_type": "code",
      "metadata": {
        "id": "1euV-bjP9cF7",
        "colab_type": "code",
        "colab": {}
      },
      "source": [
        "sum_cv_rfc = 0\n",
        "for cv_score in cv_rfc:\n",
        "  sum_cv_rfc += cv_score\n",
        "print('\\nResultado Random Forest: {0}'.format(sum_cv_rfc/5))"
      ],
      "execution_count": null,
      "outputs": []
    },
    {
      "cell_type": "code",
      "metadata": {
        "id": "_Dyna-MC9fe_",
        "colab_type": "code",
        "colab": {}
      },
      "source": [
        "sum_cv_knn = 0\n",
        "for cv_score in cv_knn:\n",
        "  sum_cv_knn += cv_score\n",
        "print('\\nResultado KNN: {0}'.format(sum_cv_knn/5))"
      ],
      "execution_count": null,
      "outputs": []
    }
  ]
}
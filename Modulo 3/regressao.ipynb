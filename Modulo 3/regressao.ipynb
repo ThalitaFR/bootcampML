{
  "nbformat": 4,
  "nbformat_minor": 0,
  "metadata": {
    "colab": {
      "name": "regressao.ipynb",
      "provenance": [],
      "private_outputs": true
    },
    "kernelspec": {
      "name": "python3",
      "display_name": "Python 3"
    }
  },
  "cells": [
    {
      "cell_type": "code",
      "metadata": {
        "id": "_ozlTGuK4Ynl",
        "colab_type": "code",
        "colab": {}
      },
      "source": [
        "\n",
        "import warnings\n",
        "warnings.filterwarnings(\"ignore\")\n",
        "\n",
        "import numpy as np\n",
        "import matplotlib.pyplot as plt\n",
        "from sklearn import datasets, linear_model\n",
        "from sklearn.metrics import mean_squared_error, median_absolute_error\n",
        "from sklearn.model_selection import train_test_split"
      ],
      "execution_count": null,
      "outputs": []
    },
    {
      "cell_type": "code",
      "metadata": {
        "id": "pLqmPRRO5xM6",
        "colab_type": "code",
        "colab": {}
      },
      "source": [
        "# Carregue o dataset\n",
        "X, y = datasets.load_diabetes(return_X_y=True)"
      ],
      "execution_count": null,
      "outputs": []
    },
    {
      "cell_type": "code",
      "metadata": {
        "id": "u_wWqSrB5zii",
        "colab_type": "code",
        "colab": {}
      },
      "source": [
        "# Separamos uma feature para usar\n",
        "X = X[:, np.newaxis, 2]"
      ],
      "execution_count": null,
      "outputs": []
    },
    {
      "cell_type": "code",
      "metadata": {
        "id": "ieykUMpM51ta",
        "colab_type": "code",
        "colab": {}
      },
      "source": [
        "# Separa dados para treinar\n",
        "X_train, X_test, y_train, y_test = train_test_split(X, y, test_size=0.20, random_state=42)"
      ],
      "execution_count": null,
      "outputs": []
    },
    {
      "cell_type": "code",
      "metadata": {
        "id": "dO14RokB56l4",
        "colab_type": "code",
        "colab": {}
      },
      "source": [
        "# Instancie\n",
        "regr = linear_model.LinearRegression()"
      ],
      "execution_count": null,
      "outputs": []
    },
    {
      "cell_type": "code",
      "metadata": {
        "id": "2DYOAevv58AZ",
        "colab_type": "code",
        "colab": {}
      },
      "source": [
        "# Treine o  modelo\n",
        "regr.fit(X_train, y_train)"
      ],
      "execution_count": null,
      "outputs": []
    },
    {
      "cell_type": "code",
      "metadata": {
        "id": "MWkOmWXU5-Uu",
        "colab_type": "code",
        "colab": {}
      },
      "source": [
        "# Teste o modelo treinado\n",
        "y_pred = regr.predict(X_test)"
      ],
      "execution_count": null,
      "outputs": []
    },
    {
      "cell_type": "code",
      "metadata": {
        "id": "k3LfeytI6Bb6",
        "colab_type": "code",
        "colab": {}
      },
      "source": [
        "# Métricas de qualidade\n",
        "print('Erro médio quadrático: %.2f' % mean_squared_error(y_test, y_pred))"
      ],
      "execution_count": null,
      "outputs": []
    },
    {
      "cell_type": "code",
      "metadata": {
        "id": "-1gSG9ol6FOp",
        "colab_type": "code",
        "colab": {}
      },
      "source": [
        "# Métricas de qualidade\n",
        "print('Erro mediano absoluto: %.2f' % median_absolute_error(y_test, y_pred))"
      ],
      "execution_count": null,
      "outputs": []
    },
    {
      "cell_type": "code",
      "metadata": {
        "id": "P2OWF4Tt6Hbk",
        "colab_type": "code",
        "colab": {}
      },
      "source": [
        "# Gráfico\n",
        "#print(X_test.size)\n",
        "#print(y_test.size)\n",
        "plt.scatter(X_test, y_test, color='black')\n",
        "plt.plot(X_test, y_pred, color='blue', linewidth=3)\n",
        "plt.xticks(())\n",
        "plt.yticks(())\n",
        "plt.show()"
      ],
      "execution_count": null,
      "outputs": []
    }
  ]
}
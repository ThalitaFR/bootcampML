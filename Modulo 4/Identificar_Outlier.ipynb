{
  "nbformat": 4,
  "nbformat_minor": 0,
  "metadata": {
    "colab": {
      "name": "Identificar Outlier.ipynb",
      "provenance": [],
      "private_outputs": true
    },
    "kernelspec": {
      "name": "python3",
      "display_name": "Python 3"
    }
  },
  "cells": [
    {
      "cell_type": "code",
      "metadata": {
        "id": "JZi1k3YrZeLH",
        "colab_type": "code",
        "colab": {}
      },
      "source": [
        "  import pandas as pd\n",
        "  import numpy as np\n",
        "  import matplotlib.pyplot as plt\n",
        "  from scipy import stats"
      ],
      "execution_count": null,
      "outputs": []
    },
    {
      "cell_type": "code",
      "metadata": {
        "id": "HnIbAB3KaAtc",
        "colab_type": "code",
        "colab": {}
      },
      "source": [
        "# Base de dados\n",
        "xi = [3246, 3476, 3724, 3773, 3837, 3968, 4198, 4048, 4170, 4226, 4788, 4009, 3568, 4357]"
      ],
      "execution_count": null,
      "outputs": []
    },
    {
      "cell_type": "code",
      "metadata": {
        "id": "EpJN7PPEaHpK",
        "colab_type": "code",
        "colab": {}
      },
      "source": [
        "# Base de dados com Anomalia\n",
        "xy = [6799, 3476, 3724, 3773, 3837, 3968, 4198, 4048, 4170, 4226, 4788, 4009, 3568, 4357]"
      ],
      "execution_count": null,
      "outputs": []
    },
    {
      "cell_type": "code",
      "metadata": {
        "id": "QoFLGx1EaMDb",
        "colab_type": "code",
        "colab": {}
      },
      "source": [
        "def print_full(x):\n",
        "  pd.set_option('display.max_rows', len(x))\n",
        "  pd.set_option('display.max_columns', len(x))\n",
        "  print(x)\n",
        "  pd.reset_option('display.max_rows')\n",
        "  pd.reset_option('display.max_columns')"
      ],
      "execution_count": null,
      "outputs": []
    },
    {
      "cell_type": "code",
      "metadata": {
        "id": "JZkJt3uTaxDy",
        "colab_type": "code",
        "colab": {}
      },
      "source": [
        "# Média\n",
        "xi_mean = np.mean(xi)\n",
        "xy_mean = np.mean(xy)\n",
        "\n",
        "# Mediana\n",
        "mediana_xi = np.median(xi)\n",
        "mediana_xy = np.median(xy)\n",
        "\n",
        "#Moda\n",
        "moda_xi =  stats.mode(xi)\n",
        "moda_xy = stats.mode(xy)"
      ],
      "execution_count": null,
      "outputs": []
    },
    {
      "cell_type": "code",
      "metadata": {
        "id": "D5n8Cr6dbSSt",
        "colab_type": "code",
        "colab": {}
      },
      "source": [
        "print(\"Minha lista sem anomalias:\" + str(xi))\n",
        "print(\"A mediana da minha lista é:\" + str(mediana_xi))\n",
        "print(\"A moda da minha lista é:\" + str(moda_xi))\n",
        "\n",
        "print(\"Minha lista com Anomalias:\" + str(xy))\n",
        "print(\"A mediana da minha lista é:\" + str(mediana_xy))\n",
        "print(\"A moda da minha lista é:\" + str(moda_xy))"
      ],
      "execution_count": null,
      "outputs": []
    },
    {
      "cell_type": "code",
      "metadata": {
        "id": "6_w0ztcMb_Zo",
        "colab_type": "code",
        "colab": {}
      },
      "source": [
        "# Desvio Padrão\n",
        "xi_sd = np.std(xi, ddof = 1)\n",
        "xy_sd = np.std(xy, ddof = 1)"
      ],
      "execution_count": null,
      "outputs": []
    },
    {
      "cell_type": "code",
      "metadata": {
        "id": "DKf_Zd22cPWR",
        "colab_type": "code",
        "colab": {}
      },
      "source": [
        "# Z-Score\n",
        "z_score_i = (xi - xi_mean) / xi_sd\n",
        "z_score_y = (xy - xy_mean) / xy_sd"
      ],
      "execution_count": null,
      "outputs": []
    },
    {
      "cell_type": "code",
      "metadata": {
        "id": "1IJtKn8AcjdD",
        "colab_type": "code",
        "colab": {}
      },
      "source": [
        "df = pd.DataFrame({'Base (sem anomalias)': xi, 'Z-score (sem anomalias)': z_score_i, 'Base (com anomalias)': xy, 'Z-score (com anomalias)': z_score_y,})\n",
        "df.round(2)\n",
        "cols = ['Base (sem anomalias)', 'Z-score (sem anomalias)', 'Base (com anomalias)', 'Z-score (com anomalias)']\n",
        "df = df[cols]\n",
        "print_full(df)"
      ],
      "execution_count": null,
      "outputs": []
    },
    {
      "cell_type": "code",
      "metadata": {
        "id": "OPIYHrNudwzD",
        "colab_type": "code",
        "colab": {}
      },
      "source": [
        "# plot da distribuição normal\n",
        "stats.probplot (xi, dist = \"norm\", plot = plt)\n",
        "plt.show()"
      ],
      "execution_count": null,
      "outputs": []
    },
    {
      "cell_type": "code",
      "metadata": {
        "id": "7Wten-UDeApE",
        "colab_type": "code",
        "colab": {}
      },
      "source": [
        "# plot da distribuição anormal\n",
        "stats.probplot (xy, dist = \"norm\", plot = plt)\n",
        "plt.show()"
      ],
      "execution_count": null,
      "outputs": []
    },
    {
      "cell_type": "code",
      "metadata": {
        "id": "iqb65VQoeNgJ",
        "colab_type": "code",
        "colab": {}
      },
      "source": [
        "# figure instance\n",
        "fig_xi = plt.figure(1, figsize = (6,4))"
      ],
      "execution_count": null,
      "outputs": []
    },
    {
      "cell_type": "code",
      "metadata": {
        "id": "nJRKEGMmecog",
        "colab_type": "code",
        "colab": {}
      },
      "source": [
        "# axes instance\n",
        "axi = fig_xi.add_subplot(111)\n",
        "bp_xi = axi.boxplot(xi)"
      ],
      "execution_count": null,
      "outputs": []
    },
    {
      "cell_type": "code",
      "metadata": {
        "id": "K20BmEYnezVK",
        "colab_type": "code",
        "colab": {}
      },
      "source": [
        "# figure instance\n",
        "fig_xy = plt.figure(2, figsize = (6,4))"
      ],
      "execution_count": null,
      "outputs": []
    },
    {
      "cell_type": "code",
      "metadata": {
        "id": "ixkcoGZpe83a",
        "colab_type": "code",
        "colab": {}
      },
      "source": [
        "# axes instance\n",
        "axy = fig_xy.add_subplot(111)\n",
        "bp_xy = axi.boxplot(xy)"
      ],
      "execution_count": null,
      "outputs": []
    }
  ]
}
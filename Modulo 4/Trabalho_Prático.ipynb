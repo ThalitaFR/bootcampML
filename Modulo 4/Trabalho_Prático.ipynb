{
  "nbformat": 4,
  "nbformat_minor": 0,
  "metadata": {
    "colab": {
      "name": "Trabalho Prático.ipynb",
      "provenance": [],
      "private_outputs": true
    },
    "kernelspec": {
      "name": "python3",
      "display_name": "Python 3"
    }
  },
  "cells": [
    {
      "cell_type": "code",
      "metadata": {
        "id": "MDQMnSAe9eRG",
        "colab_type": "code",
        "colab": {}
      },
      "source": [
        "# Importando Bibliotecas\n",
        "import warnings\n",
        "warnings.filterwarnings(\"ignore\")\n",
        "\n",
        "import numpy as np\n",
        "import matplotlib.pyplot as plt\n",
        "\n",
        "import tensorflow as tf\n",
        "from tensorflow import keras\n",
        "\n",
        "print(tf.__version__)"
      ],
      "execution_count": null,
      "outputs": []
    },
    {
      "cell_type": "code",
      "metadata": {
        "id": "0Z9P2gEu9mUC",
        "colab_type": "code",
        "colab": {}
      },
      "source": [
        "# Fashion MNIST Dataset\n",
        "fashion_mnist = keras.datasets.fashion_mnist"
      ],
      "execution_count": null,
      "outputs": []
    },
    {
      "cell_type": "code",
      "metadata": {
        "id": "9npuTzsD9ony",
        "colab_type": "code",
        "colab": {}
      },
      "source": [
        "# Carregando a base de dados que retorna quatro NumPy arrays\n",
        "(train_images, train_labels), (test_images, test_labels) = fashion_mnist.load_data()"
      ],
      "execution_count": null,
      "outputs": []
    },
    {
      "cell_type": "code",
      "metadata": {
        "id": "h99ShJhI9t1q",
        "colab_type": "code",
        "colab": {}
      },
      "source": [
        "class_names = ['T-shirt/top', 'Trouser', 'Pullover', 'Dress', 'Coat',\n",
        "               'Sandal', 'Shirt', 'Sneaker', 'Bag', 'Ankle boot']"
      ],
      "execution_count": null,
      "outputs": []
    },
    {
      "cell_type": "markdown",
      "metadata": {
        "id": "p74NzECl90eS",
        "colab_type": "text"
      },
      "source": [
        "## Exploração de Dados"
      ]
    },
    {
      "cell_type": "code",
      "metadata": {
        "id": "exJEAtEr9woq",
        "colab_type": "code",
        "colab": {}
      },
      "source": [
        "print(f'train images: {len(train_images)} \\ntest images:  {len(test_images)}')\n"
      ],
      "execution_count": null,
      "outputs": []
    },
    {
      "cell_type": "code",
      "metadata": {
        "id": "87qsX-7Q95JS",
        "colab_type": "code",
        "colab": {}
      },
      "source": [
        "# conjunto de treinamento, e cada imagem é representada em 28 x 28 pixels\n",
        "train_images.shape"
      ],
      "execution_count": null,
      "outputs": []
    },
    {
      "cell_type": "code",
      "metadata": {
        "id": "4CTfJCiB96ua",
        "colab_type": "code",
        "colab": {}
      },
      "source": [
        "# Cada label é um inteiro entre 0 e 9\n",
        "train_labels"
      ],
      "execution_count": null,
      "outputs": []
    },
    {
      "cell_type": "code",
      "metadata": {
        "id": "PGtVYLLY99ka",
        "colab_type": "code",
        "colab": {}
      },
      "source": [
        "# Todas as labels\n",
        "np.unique(train_labels)"
      ],
      "execution_count": null,
      "outputs": []
    },
    {
      "cell_type": "markdown",
      "metadata": {
        "id": "6nj3RM9Z-Fr7",
        "colab_type": "text"
      },
      "source": [
        "## Pré processamento de dados"
      ]
    },
    {
      "cell_type": "code",
      "metadata": {
        "id": "j32HgK5X-CLS",
        "colab_type": "code",
        "colab": {}
      },
      "source": [
        "# Primeira imagem do conjunto de dados\n",
        "plt.figure()\n",
        "plt.imshow(train_images[0])\n",
        "plt.colorbar()\n",
        "plt.grid(False)\n",
        "plt.show()"
      ],
      "execution_count": null,
      "outputs": []
    },
    {
      "cell_type": "code",
      "metadata": {
        "id": "69IWZLev-J0p",
        "colab_type": "code",
        "colab": {}
      },
      "source": [
        "# Escalaremos esses valores no intervalo de 0 e 1 antes antes de alimentar o modelo da rede neural.\n",
        "train_images = train_images / 255.0\n",
        "\n",
        "test_images = test_images / 255.0"
      ],
      "execution_count": null,
      "outputs": []
    },
    {
      "cell_type": "code",
      "metadata": {
        "id": "xXETHCLf-MMa",
        "colab_type": "code",
        "colab": {}
      },
      "source": [
        "# Primeiras 25 imagens do conjunto de treinamento\n",
        "plt.figure(figsize=(10,10))\n",
        "for i in range(25):\n",
        "    plt.subplot(5,5,i+1)\n",
        "    plt.xticks([])\n",
        "    plt.yticks([])\n",
        "    plt.grid(False)\n",
        "    plt.imshow(train_images[i], cmap=plt.cm.binary)\n",
        "    plt.xlabel(class_names[train_labels[i]])\n",
        "plt.show()"
      ],
      "execution_count": null,
      "outputs": []
    },
    {
      "cell_type": "markdown",
      "metadata": {
        "id": "6xmJTJvS-QPj",
        "colab_type": "text"
      },
      "source": [
        "## Construção do Modelo"
      ]
    },
    {
      "cell_type": "code",
      "metadata": {
        "id": "Goz9LPaN-OrB",
        "colab_type": "code",
        "colab": {}
      },
      "source": [
        "# Montar as camadas\n",
        "model = keras.Sequential([\n",
        "    keras.layers.Flatten(input_shape=(28, 28)),\n",
        "    keras.layers.Dense(128, activation='relu'),\n",
        "    keras.layers.Dense(10, activation='softmax')\n",
        "])"
      ],
      "execution_count": null,
      "outputs": []
    },
    {
      "cell_type": "code",
      "metadata": {
        "id": "Fr-Gv6L--VRB",
        "colab_type": "code",
        "colab": {}
      },
      "source": [
        "# Compilando o modelo\n",
        "model.compile(optimizer='adam',\n",
        "              loss='sparse_categorical_crossentropy',\n",
        "              metrics=['accuracy'])"
      ],
      "execution_count": null,
      "outputs": []
    },
    {
      "cell_type": "code",
      "metadata": {
        "id": "RtgyhRqX-YcJ",
        "colab_type": "code",
        "colab": {}
      },
      "source": [
        "model.summary()"
      ],
      "execution_count": null,
      "outputs": []
    },
    {
      "cell_type": "markdown",
      "metadata": {
        "id": "OHwDgFlW-dA4",
        "colab_type": "text"
      },
      "source": [
        "##  Treinando o Modelo"
      ]
    },
    {
      "cell_type": "code",
      "metadata": {
        "id": "PHHPpQmH-aDB",
        "colab_type": "code",
        "colab": {}
      },
      "source": [
        "# Treinando o modelo com o método fit\n",
        "model.fit(train_images, train_labels, epochs=10)"
      ],
      "execution_count": null,
      "outputs": []
    },
    {
      "cell_type": "markdown",
      "metadata": {
        "id": "qLbCl-fv-lr5",
        "colab_type": "text"
      },
      "source": [
        "## Avaliando Acurácia"
      ]
    },
    {
      "cell_type": "code",
      "metadata": {
        "id": "yRCZbzJ9-ho6",
        "colab_type": "code",
        "colab": {}
      },
      "source": [
        "# comparando como o modelo performou com o conjunto de teste\n",
        "test_loss, test_acc = model.evaluate(test_images,  test_labels, verbose=2)\n",
        "\n",
        "print('\\nTest accuracy:', test_acc)"
      ],
      "execution_count": null,
      "outputs": []
    },
    {
      "cell_type": "markdown",
      "metadata": {
        "id": "rS_FU7wp-vFh",
        "colab_type": "text"
      },
      "source": [
        "## Predições"
      ]
    },
    {
      "cell_type": "code",
      "metadata": {
        "id": "_Ynb-zg3-rRd",
        "colab_type": "code",
        "colab": {}
      },
      "source": [
        "# Para predições de algumas imagens\n",
        "predictions = model.predict(test_images)"
      ],
      "execution_count": null,
      "outputs": []
    },
    {
      "cell_type": "code",
      "metadata": {
        "id": "s2LnjK2C-yhZ",
        "colab_type": "code",
        "colab": {}
      },
      "source": [
        "# Primeira pedição do conjunto. A predição é um array de 10 números\n",
        "predictions[0]"
      ],
      "execution_count": null,
      "outputs": []
    },
    {
      "cell_type": "code",
      "metadata": {
        "id": "qD_SvPeE-0iZ",
        "colab_type": "code",
        "colab": {}
      },
      "source": [
        "# Podemos ver cada label tem um maior valor de confiança.\n",
        "# Então, o modelo é confiante de que essa imagem é uma bota (ankle boot) ou class_names[9]\n",
        "np.argmax(predictions[0])"
      ],
      "execution_count": null,
      "outputs": []
    },
    {
      "cell_type": "code",
      "metadata": {
        "id": "cN3zBagc-24Z",
        "colab_type": "code",
        "colab": {}
      },
      "source": [
        "# Examinando a label do teste, vemos que essa classificação é correta\n",
        "test_labels[0]"
      ],
      "execution_count": null,
      "outputs": []
    },
    {
      "cell_type": "code",
      "metadata": {
        "id": "JFaopofK-435",
        "colab_type": "code",
        "colab": {}
      },
      "source": [
        "# Podemos mostrar graficamente como se parece em um conjunto total de previsão de 10 classes.\n",
        "def plot_image(i, predictions_array, true_label, img):\n",
        "  predictions_array, true_label, img = predictions_array[i], true_label[i], img[i]\n",
        "  plt.grid(False)\n",
        "  plt.xticks([])\n",
        "  plt.yticks([])\n",
        "\n",
        "  plt.imshow(img, cmap=plt.cm.binary)\n",
        "\n",
        "  predicted_label = np.argmax(predictions_array)\n",
        "  if predicted_label == true_label:\n",
        "    color = 'blue'\n",
        "  else:\n",
        "    color = 'red'\n",
        "\n",
        "  plt.xlabel(\"{} {:2.0f}% ({})\".format(class_names[predicted_label],\n",
        "                                100*np.max(predictions_array),\n",
        "                                class_names[true_label]),\n",
        "                                color=color)\n",
        "\n",
        "def plot_value_array(i, predictions_array, true_label):\n",
        "  predictions_array, true_label = predictions_array[i], true_label[i]\n",
        "  plt.grid(False)\n",
        "  plt.xticks([])\n",
        "  plt.yticks([])\n",
        "  thisplot = plt.bar(range(10), predictions_array, color=\"#777777\")\n",
        "  plt.ylim([0, 1])\n",
        "  predicted_label = np.argmax(predictions_array)\n",
        "\n",
        "  thisplot[predicted_label].set_color('red')\n",
        "  thisplot[true_label].set_color('blue')"
      ],
      "execution_count": null,
      "outputs": []
    },
    {
      "cell_type": "code",
      "metadata": {
        "id": "5fZjPgg--8Va",
        "colab_type": "code",
        "colab": {}
      },
      "source": [
        "# Vamos olhar a previsão imagem na posição 0, do array de predição.\n",
        "i = 0\n",
        "plt.figure(figsize=(6,3))\n",
        "plt.subplot(1,2,1)\n",
        "plot_image(i, predictions, test_labels, test_images)\n",
        "plt.subplot(1,2,2)\n",
        "plot_value_array(i, predictions,  test_labels)\n",
        "plt.show()\n"
      ],
      "execution_count": null,
      "outputs": []
    },
    {
      "cell_type": "code",
      "metadata": {
        "id": "t68TTOYW-_Ca",
        "colab_type": "code",
        "colab": {}
      },
      "source": [
        "i = 12\n",
        "plt.figure(figsize=(6,3))\n",
        "plt.subplot(1,2,1)\n",
        "plot_image(i, predictions, test_labels, test_images)\n",
        "plt.subplot(1,2,2)\n",
        "plot_value_array(i, predictions,  test_labels)\n",
        "plt.show()"
      ],
      "execution_count": null,
      "outputs": []
    },
    {
      "cell_type": "code",
      "metadata": {
        "id": "WVk1LQIS_BVq",
        "colab_type": "code",
        "colab": {}
      },
      "source": [
        "# Plota o primeiro X test images, e as labels preditas, e as labels verdadeiras.\n",
        "# Colore as predições corretas de azul e as incorretas de vermelho.\n",
        "num_rows = 5\n",
        "num_cols = 3\n",
        "num_images = num_rows*num_cols\n",
        "plt.figure(figsize=(2*2*num_cols, 2*num_rows))\n",
        "for i in range(num_images):\n",
        "  plt.subplot(num_rows, 2*num_cols, 2*i+1)\n",
        "  plot_image(i, predictions, test_labels, test_images)\n",
        "  plt.subplot(num_rows, 2*num_cols, 2*i+2)\n",
        "  plot_value_array(i, predictions, test_labels)\n",
        "plt.show()"
      ],
      "execution_count": null,
      "outputs": []
    },
    {
      "cell_type": "code",
      "metadata": {
        "id": "fw4DA9G7_DrS",
        "colab_type": "code",
        "colab": {}
      },
      "source": [
        "# Imagem do dataset\n",
        "img = test_images[0]\n",
        "\n",
        "print(img.shape)"
      ],
      "execution_count": null,
      "outputs": []
    },
    {
      "cell_type": "code",
      "metadata": {
        "id": "bkEF3SF-_Jsy",
        "colab_type": "code",
        "colab": {}
      },
      "source": [
        "# Adiciona a imagem em um batch que possui um só membro.\n",
        "img = (np.expand_dims(img,0))\n",
        "\n",
        "print(img.shape)"
      ],
      "execution_count": null,
      "outputs": []
    },
    {
      "cell_type": "code",
      "metadata": {
        "id": "zS4ZF0Hc_MYi",
        "colab_type": "code",
        "colab": {}
      },
      "source": [
        "predictions_single = model.predict(img)\n",
        "\n",
        "print(predictions_single)"
      ],
      "execution_count": null,
      "outputs": []
    },
    {
      "cell_type": "code",
      "metadata": {
        "id": "ttUJzppM_O3J",
        "colab_type": "code",
        "colab": {}
      },
      "source": [
        "plot_value_array(0, predictions_single, test_labels)\n",
        "_ = plt.xticks(range(10), class_names, rotation=45)"
      ],
      "execution_count": null,
      "outputs": []
    },
    {
      "cell_type": "code",
      "metadata": {
        "id": "xyNUhuRn_RDZ",
        "colab_type": "code",
        "colab": {}
      },
      "source": [
        "np.argmax(predictions_single[0])"
      ],
      "execution_count": null,
      "outputs": []
    }
  ]
}
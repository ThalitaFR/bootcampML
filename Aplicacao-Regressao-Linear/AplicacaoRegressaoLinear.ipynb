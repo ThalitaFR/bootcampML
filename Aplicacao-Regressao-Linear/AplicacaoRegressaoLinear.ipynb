{
  "nbformat": 4,
  "nbformat_minor": 0,
  "metadata": {
    "colab": {
      "name": "AplicacaoRegressaoLinear.ipynb",
      "provenance": [],
      "private_outputs": true,
      "collapsed_sections": [
        "DfXFEkhXzuyv"
      ],
      "toc_visible": true
    },
    "kernelspec": {
      "name": "python3",
      "display_name": "Python 3"
    }
  },
  "cells": [
    {
      "cell_type": "markdown",
      "metadata": {
        "id": "DfXFEkhXzuyv",
        "colab_type": "text"
      },
      "source": [
        "# Código de forma \"Manual\""
      ]
    },
    {
      "cell_type": "code",
      "metadata": {
        "id": "gycUzPaAjhjO",
        "colab_type": "code",
        "colab": {}
      },
      "source": [
        "# regressão utilizando o otimizador\n",
        "# definindo as bibliotecas\n",
        "import numpy as np #biblioteca necessária para trabalhar com vetores e matrizes\n",
        "import scipy #biblioteca necessária para obter as funções de treinamento\n",
        "import matplotlib.pyplot as plt #biblioteca utilizada para construir os gráficos\n",
        "from scipy.optimize import curve_fit #biblioteca utilizada para realizar a otimização dos MSE"
      ],
      "execution_count": null,
      "outputs": []
    },
    {
      "cell_type": "code",
      "metadata": {
        "id": "3Bq1Z54xml2t",
        "colab_type": "code",
        "colab": {}
      },
      "source": [
        "# Definindo as variáveis\n",
        "idade = [18,25,57,45,26,64,37,40,24,33] # variavel independente (prever salario baseado na idade)\n",
        "salarioAnual = [15000,29000,68000,52000,32000,80000,41000,45000,26000,33000] #variavel dependente\n",
        "\n",
        "xData = np.array(idade) # transformando a lista em array\n",
        "yData = np.array(salarioAnual) #transformando a lista em array"
      ],
      "execution_count": null,
      "outputs": []
    },
    {
      "cell_type": "code",
      "metadata": {
        "id": "xP8D7LS7nWAp",
        "colab_type": "code",
        "colab": {}
      },
      "source": [
        "# Define a função a ser otimizada (regressão simples).\n",
        "def equacaoLinear(x, a, b):\n",
        "  return a * x + b"
      ],
      "execution_count": null,
      "outputs": []
    },
    {
      "cell_type": "code",
      "metadata": {
        "id": "Q6pGaDIJnkHC",
        "colab_type": "code",
        "colab": {}
      },
      "source": [
        "# Gera os parâmetros iniciais para o otimizador\n",
        "parametrosIniciais = np.array([1.0,1.0]) "
      ],
      "execution_count": null,
      "outputs": []
    },
    {
      "cell_type": "code",
      "metadata": {
        "id": "bsvWyjGen0nB",
        "colab_type": "code",
        "colab": {}
      },
      "source": [
        "# Realiza a otimização através do erro médio quadrado (MSE)\n",
        "parametrosOtimizados, pcov = curve_fit(equacaoLinear, xData, yData, parametrosIniciais)\n",
        "# Parâmetros otimizados, contém os parâmetros de ajuste da curva \n",
        "# pcov - contém a convariância dos parâmetros encontrados"
      ],
      "execution_count": null,
      "outputs": []
    },
    {
      "cell_type": "code",
      "metadata": {
        "id": "uzhh8CCyoaUY",
        "colab_type": "code",
        "colab": {}
      },
      "source": [
        "# Realiza a previsão dos dados através do modelo (constroi a equacao linear)\n",
        "previsaoModelo = equacaoLinear(xData, *parametrosOtimizados) #Utiliza a função linear com os parâmetros otimizados"
      ],
      "execution_count": null,
      "outputs": []
    },
    {
      "cell_type": "code",
      "metadata": {
        "id": "1u5K7EqSo5Er",
        "colab_type": "code",
        "colab": {}
      },
      "source": [
        "# Encontra o erro absoluto (linhas verticais)\n",
        "erroAbsoluto = previsaoModelo - yData #(valor previsto - valor real)"
      ],
      "execution_count": null,
      "outputs": []
    },
    {
      "cell_type": "code",
      "metadata": {
        "id": "X6XhZKCNpP7C",
        "colab_type": "code",
        "colab": {}
      },
      "source": [
        "# Calcula o erro quadrado entre cada medida\n",
        "SE = np.square(erroAbsoluto)\n",
        "# Calcula o MSE\n",
        "MSE = np.mean(SE)\n",
        "print('SE: ', SE)\n",
        "print('MSE: ', MSE)"
      ],
      "execution_count": null,
      "outputs": []
    },
    {
      "cell_type": "code",
      "metadata": {
        "id": "zURBzBBjsmWE",
        "colab_type": "code",
        "colab": {}
      },
      "source": [
        "# Realiza o calculo de coeficiente de determinação \n",
        "Rsquared = 1.0 - (np.var(erroAbsoluto) / np.var(yData)) #numpy.var - encontra a variancia entre os dados do vetor\n",
        "print('Coeficiente de Determinação: ', Rsquared)"
      ],
      "execution_count": null,
      "outputs": []
    },
    {
      "cell_type": "code",
      "metadata": {
        "id": "XLjVfiExvpIk",
        "colab_type": "code",
        "colab": {}
      },
      "source": [
        "#  Mostra os parâmetros da regressão\n",
        "print('Y= {} X{}' .format(parametrosOtimizados[0], parametrosOtimizados[1]))"
      ],
      "execution_count": null,
      "outputs": []
    },
    {
      "cell_type": "code",
      "metadata": {
        "id": "T4EvxwTLwNh_",
        "colab_type": "code",
        "colab": {}
      },
      "source": [
        "# Realiza o plot da figura\n",
        "f = plt.figure(figsize = (4,4), dpi = 100) # indica o tamanho da figura\n",
        "axes = f.add_subplot(111) # cria os objetos para o subplot\n",
        "\n",
        "# Realiza o plot dos dados (pontos no gráfico)\n",
        "axes.plot(xData, yData, 'ro')\n",
        "\n",
        "# Cria os Dados para serem utilizados na construção da linha (equação)\n",
        "xModel = np.linspace(min(xData), max(xData)) # Encontra os valores minimos e maximos da linha\n",
        "yModel = equacaoLinear(xModel, *parametrosOtimizados) # Aplica a função com os parâmetros obtidos\n",
        "\n",
        "#Realiza o plot da linha\n",
        "axes.plot(xModel, yModel)\n",
        "plt.ylabel(\"Idade\")\n",
        "plt.xlabel(\"Salario Anual (R$)\")"
      ],
      "execution_count": null,
      "outputs": []
    },
    {
      "cell_type": "markdown",
      "metadata": {
        "id": "0R2BTJdlznD2",
        "colab_type": "text"
      },
      "source": [
        "# Mesmo código porém em SKLearn\n"
      ]
    },
    {
      "cell_type": "code",
      "metadata": {
        "id": "9v7QbR_vztqc",
        "colab_type": "code",
        "colab": {}
      },
      "source": [
        "# utiliza as funções do SKLearn para construir a regressão linear\n",
        "from sklearn.linear_model import LinearRegression\n",
        "from sklearn.metrics import mean_squared_error"
      ],
      "execution_count": null,
      "outputs": []
    },
    {
      "cell_type": "code",
      "metadata": {
        "id": "hSQWRsdK0KB2",
        "colab_type": "code",
        "colab": {}
      },
      "source": [
        "reg = LinearRegression() # objeto para a regressão linear\n",
        "x_ModeloSklearn = xData.reshape((-1,1)) # na regressão linear é necessário que o x seja 2D\n",
        "regressao = reg.fit (x_ModeloSklearn, yData) # realiza a regressão"
      ],
      "execution_count": null,
      "outputs": []
    },
    {
      "cell_type": "code",
      "metadata": {
        "id": "_9Lgs36g0yfb",
        "colab_type": "code",
        "colab": {}
      },
      "source": [
        "previsao = reg.predict(x_ModeloSklearn)"
      ],
      "execution_count": null,
      "outputs": []
    },
    {
      "cell_type": "code",
      "metadata": {
        "id": "8Y1lcbR904PY",
        "colab_type": "code",
        "colab": {}
      },
      "source": [
        "MSE = mean_squared_error(yData, previsao) # encontra MSE atraves do sklearn\n",
        "print('MSE', MSE)"
      ],
      "execution_count": null,
      "outputs": []
    },
    {
      "cell_type": "code",
      "metadata": {
        "id": "Ufb0a94x1KA7",
        "colab_type": "code",
        "colab": {}
      },
      "source": [
        "#parâmetros encontrados\n",
        "print('Y = {} X {}'.format(reg.coef_, reg.intercept_))\n",
        "\n",
        "from sklearn.metrics import r2_score # metodo para calculo do R2\n",
        "\n",
        "R_2 = r2_score(yData, previsao) # realiza calculo do R2\n",
        "print(\"coeficiente de determinação:\", R_2)"
      ],
      "execution_count": null,
      "outputs": []
    },
    {
      "cell_type": "markdown",
      "metadata": {
        "id": "m6_Mw6LD16N9",
        "colab_type": "text"
      },
      "source": [
        "# Construção de uma regressão para um banco de dados real "
      ]
    },
    {
      "cell_type": "code",
      "metadata": {
        "id": "gAwFV5b11_wJ",
        "colab_type": "code",
        "colab": {}
      },
      "source": [
        "import pandas as pd \n"
      ],
      "execution_count": null,
      "outputs": []
    },
    {
      "cell_type": "code",
      "metadata": {
        "id": "o4k_jk63mmjv",
        "colab_type": "code",
        "colab": {}
      },
      "source": [
        "from google.colab import files\n",
        "uploaded = files.upload()\n"
      ],
      "execution_count": null,
      "outputs": []
    },
    {
      "cell_type": "code",
      "metadata": {
        "id": "1ZAsdowpnNpg",
        "colab_type": "code",
        "colab": {}
      },
      "source": [
        "# leitura do banco de dados\n",
        "data = pd.read_csv(\"headbrain.csv\")\n",
        "data.head() # visualiza as 5 primeiras linhas do banco de dados."
      ],
      "execution_count": null,
      "outputs": []
    },
    {
      "cell_type": "code",
      "metadata": {
        "id": "T7LlPkMFnh3s",
        "colab_type": "code",
        "colab": {}
      },
      "source": [
        "# Como o formato em cada uma das colunas do dataframe são series é necessário converter array\n",
        "x = data[\"Head Size(cm^3)\"].values\n",
        "y = data[\"Brain Weight(grams)\"].values"
      ],
      "execution_count": null,
      "outputs": []
    },
    {
      "cell_type": "code",
      "metadata": {
        "id": "jg36kg1goaSY",
        "colab_type": "code",
        "colab": {}
      },
      "source": [
        "# Realiza a construção do modelo de regressão\n",
        "reg = LinearRegression()\n",
        "x_Reshaped = x.reshape((-1,1)) # coloca os dados no formato 2D\n",
        "regressao = reg.fit(x_Reshaped, y) # encontra os coeficientes (realiza a regressão)"
      ],
      "execution_count": null,
      "outputs": []
    },
    {
      "cell_type": "code",
      "metadata": {
        "id": "feBMlQzipcj0",
        "colab_type": "code",
        "colab": {}
      },
      "source": [
        "# realiza a previsão\n",
        "previsao = reg.predict(x_Reshaped)"
      ],
      "execution_count": null,
      "outputs": []
    },
    {
      "cell_type": "code",
      "metadata": {
        "id": "j910ynTJpo2p",
        "colab_type": "code",
        "colab": {}
      },
      "source": [
        "# parâmetros encontrados\n",
        "print('Y = {} X {}'.format(reg.coef_,reg.intercept_))\n",
        "\n",
        "R_2 = r2_score(y, previsao)  # realiza o calculo do R2\n",
        "\n",
        "print('Coeficiente de determinação (R2):' , R_2)"
      ],
      "execution_count": null,
      "outputs": []
    },
    {
      "cell_type": "code",
      "metadata": {
        "id": "T-2PE9U4rTsc",
        "colab_type": "code",
        "colab": {}
      },
      "source": [
        "# realiza o plot dos dados\n",
        "plt.figure(figsize = (4,4), dpi = 100) \n",
        "plt.scatter(x,y, color = 'gray') #realiza o plot do gráfico de dispersão\n",
        "plt.plot(x, previsao, color = 'red', linewidth = 2) #realiza o plot da linha\n",
        "plt.xlabel (\"Head Size (cm^3)\")\n",
        "plt.ylabel (\"Brain Weight (grams)\")\n",
        "plt.show()\n"
      ],
      "execution_count": null,
      "outputs": []
    }
  ]
}